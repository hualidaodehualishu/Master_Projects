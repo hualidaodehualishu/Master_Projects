{
  "nbformat": 4,
  "nbformat_minor": 0,
  "metadata": {
    "colab": {
      "name": "SVM.ipynb",
      "provenance": []
    },
    "kernelspec": {
      "name": "python3",
      "display_name": "Python 3"
    },
    "language_info": {
      "name": "python"
    }
  },
  "cells": [
    {
      "cell_type": "code",
      "execution_count": 1,
      "metadata": {
        "colab": {
          "base_uri": "https://localhost:8080/"
        },
        "id": "0uZO9vHA6n1g",
        "outputId": "d8c2b2c9-eb6a-46a8-af08-a8c8f3f87a8c"
      },
      "outputs": [
        {
          "output_type": "stream",
          "name": "stdout",
          "text": [
            "Tensorflow version: 2.8.2\n",
            "Keras version: 2.8.0\n"
          ]
        }
      ],
      "source": [
        "import numpy as np\n",
        "import matplotlib.pyplot as plt\n",
        "%matplotlib inline\n",
        "import keras\n",
        "import tensorflow as tf\n",
        "from math import log\n",
        "from tensorflow import keras\n",
        "from keras.models import Sequential\n",
        "from tensorflow.keras.layers import Input, Conv2D, Dense, Flatten, Dropout\n",
        "from tensorflow.keras.layers import GlobalMaxPooling2D, MaxPooling2D\n",
        "from tensorflow.keras.layers import BatchNormalization\n",
        "from tensorflow.keras.models import Model\n",
        "from tensorflow.keras import regularizers, optimizers\n",
        "from tensorflow.keras.utils import to_categorical\n",
        "from sklearn.metrics import accuracy_score\n",
        "\n",
        "import warnings\n",
        "warnings.filterwarnings('ignore')\n",
        "\n",
        "print(\"Tensorflow version:\",tf.__version__)\n",
        "print(\"Keras version:\",keras.__version__)\n"
      ]
    },
    {
      "cell_type": "code",
      "source": [
        "from tensorflow.keras.datasets import cifar10\n",
        "(xTrain, yTrain), (xTest, yTest) = cifar10.load_data()\n",
        "xVal = xTrain[49000:, :].astype(np.float)\n",
        "yVal = np.squeeze(yTrain[49000:, :])\n",
        "xTrain = xTrain[:49000, :].astype(np.float)\n",
        "yTrain = np.squeeze(yTrain[:49000, :])\n",
        "yTest = np.squeeze(yTest)\n",
        "xTest = xTest.astype(np.float)"
      ],
      "metadata": {
        "id": "qhFxey936sJu"
      },
      "execution_count": 7,
      "outputs": []
    },
    {
      "cell_type": "code",
      "source": [
        "#Choosing a smaller dataset\n",
        "xTrain=xTrain[:3000,:]\n",
        "yTrain=yTrain[:3000]\n",
        "print(yTrain)\n",
        "print(xTrain.shape)\n",
        "print(yTrain.shape)"
      ],
      "metadata": {
        "colab": {
          "base_uri": "https://localhost:8080/"
        },
        "id": "feIZ6LTa6sOn",
        "outputId": "0aba02d0-166f-4dd0-88fb-f871733b3501"
      },
      "execution_count": 8,
      "outputs": [
        {
          "output_type": "stream",
          "name": "stdout",
          "text": [
            "[6 9 9 ... 6 6 4]\n",
            "(3000, 32, 32, 3)\n",
            "(3000,)\n"
          ]
        }
      ]
    },
    {
      "cell_type": "code",
      "source": [
        "xTrain = np.reshape(xTrain, (xTrain.shape[0], -1)) # The -1 means that the corresponding dimension is calculated from the other given dimensions.\n",
        "xVal = np.reshape(xVal, (xVal.shape[0], -1))\n",
        "xTest = np.reshape(xTest, (xTest.shape[0], -1))\n",
        "print(xTrain.shape) \n",
        "print(xTrain[0])\n",
        "\n",
        "#Normalize \n",
        "xTrain=((xTrain/255)*2)-1 \n",
        "print(xTrain.shape)\n",
        "print(xTrain[0])"
      ],
      "metadata": {
        "colab": {
          "base_uri": "https://localhost:8080/"
        },
        "id": "ofaKG0eB7szc",
        "outputId": "a83676f2-7778-439c-b9fd-f5f7c2a328b2"
      },
      "execution_count": 9,
      "outputs": [
        {
          "output_type": "stream",
          "name": "stdout",
          "text": [
            "(3000, 3072)\n",
            "[ 59.  62.  63. ... 123.  92.  72.]\n",
            "(3000, 3072)\n",
            "[-0.5372549  -0.51372549 -0.50588235 ... -0.03529412 -0.27843137\n",
            " -0.43529412]\n"
          ]
        }
      ]
    },
    {
      "cell_type": "code",
      "source": [
        "#SVM Linear Kernel\n",
        "from sklearn import svm\n",
        "\n",
        "def svm_linear(c):\n",
        "    svc = svm.SVC(probability = False, kernel = 'linear', C = c)\n",
        "    \n",
        "    svc.fit(xTrain, yTrain) \n",
        "    \n",
        "    # Find the prediction and accuracy on the training set.\n",
        "    Yhat_svc_linear_train = svc.predict(xTrain)\n",
        "    acc_train = np.mean(Yhat_svc_linear_train == yTrain)\n",
        "    acc_train_svm_linear.append(acc_train)\n",
        "    print('Train Accuracy = {0:f}'.format(acc_train))\n",
        "    \n",
        "    # Find the prediction and accuracy on the test set.\n",
        "    Yhat_svc_linear_test = svc.predict(xVal)\n",
        "    acc_test = np.mean(Yhat_svc_linear_test == yVal)\n",
        "    acc_test_svm_linear.append(acc_test)\n",
        "    print('Test Accuracy = {0:f}'.format(acc_test)) \n",
        "    "
      ],
      "metadata": {
        "id": "MehT00mL6sQ_"
      },
      "execution_count": 10,
      "outputs": []
    },
    {
      "cell_type": "code",
      "source": [
        "c_svm_linear = [0.0001,0.001,0.01,0.1,1,10,100]\n",
        "acc_train_svm_linear = []\n",
        "acc_test_svm_linear = []\n",
        "\n",
        "for c in c_svm_linear:\n",
        "    svm_linear(c)\n",
        "\n",
        "plt.plot(c_svm_linear, acc_train_svm_linear,'.-',color='red')\n",
        "plt.plot(c_svm_linear, acc_test_svm_linear,'.-',color='orange')\n",
        "plt.xlabel('c')\n",
        "plt.ylabel('Accuracy')\n",
        "plt.legend(['train', 'test'], loc='lower right')\n",
        "plt.title(\"Plot of accuracy vs c for training and test data\")\n",
        "plt.grid()"
      ],
      "metadata": {
        "colab": {
          "base_uri": "https://localhost:8080/",
          "height": 545
        },
        "id": "kv5yR0U46sTl",
        "outputId": "03f8e162-f192-482b-edba-1f889d854246"
      },
      "execution_count": 11,
      "outputs": [
        {
          "output_type": "stream",
          "name": "stdout",
          "text": [
            "Train Accuracy = 0.354667\n",
            "Test Accuracy = 0.098000\n",
            "Train Accuracy = 0.484667\n",
            "Test Accuracy = 0.188000\n",
            "Train Accuracy = 0.709333\n",
            "Test Accuracy = 0.253000\n",
            "Train Accuracy = 0.989667\n",
            "Test Accuracy = 0.286000\n",
            "Train Accuracy = 1.000000\n",
            "Test Accuracy = 0.279000\n",
            "Train Accuracy = 1.000000\n",
            "Test Accuracy = 0.279000\n",
            "Train Accuracy = 1.000000\n",
            "Test Accuracy = 0.279000\n"
          ]
        },
        {
          "output_type": "display_data",
          "data": {
            "text/plain": [
              "<Figure size 432x288 with 1 Axes>"
            ],
            "image/png": "[encoded data removed]"
          },
          "metadata": {
            "needs_background": "light"
          }
        }
      ]
    },
    {
      "cell_type": "code",
      "source": [
        "#SVM Polynomial Kernel\n",
        "\n",
        "acc_train_svm_poly = []\n",
        "acc_test_svm_poly = []\n",
        "\n",
        "def svm_polynomial(c):\n",
        "\n",
        "    svc_polynomial = svm.SVC(probability = False, kernel = 'poly', C = c)\n",
        "    \n",
        "    \n",
        "    svc_polynomial.fit(xTrain, yTrain) \n",
        "    \n",
        "    # Find the prediction and accuracy on the training set.\n",
        "    Yhat_svc_polynomial_train = svc_polynomial.predict(xTrain)\n",
        "    acc_train = np.mean(Yhat_svc_polynomial_train == yTrain)\n",
        "    acc_train_svm_poly.append(acc_train)\n",
        "    print('Accuracy = {0:f}'.format(acc_train))\n",
        "    \n",
        "    # Find the prediction and accuracy on the test set.\n",
        "    Yhat_svc_polynomial_test = svc_polynomial.predict(xVal)\n",
        "    acc_test = np.mean(Yhat_svc_polynomial_test == yVal)\n",
        "    acc_test_svm_poly.append(acc_test)\n",
        "    print('Accuracy = {0:f}'.format(acc_test))"
      ],
      "metadata": {
        "id": "cbbCTJPw6sWL"
      },
      "execution_count": 12,
      "outputs": []
    },
    {
      "cell_type": "code",
      "source": [
        "c_svm_poly = [0.0001,0.001,0.01,0.1,1,10,100]\n",
        "\n",
        "\n",
        "for c in c_svm_poly:\n",
        "    svm_polynomial(c)\n",
        "\n",
        "plt.plot(c_svm_poly, acc_train_svm_poly,'.-',color='red')\n",
        "plt.plot(c_svm_poly, acc_test_svm_poly,'.-',color='orange')\n",
        "plt.xlabel('c')\n",
        "plt.ylabel('Accuracy')\n",
        "plt.title(\"Plot of accuracy vs c for training and test data\")\n",
        "plt.grid()"
      ],
      "metadata": {
        "colab": {
          "base_uri": "https://localhost:8080/",
          "height": 545
        },
        "id": "G0ZjGfLh-Neq",
        "outputId": "1a9486a6-d284-432b-9fbb-2abd0e478013"
      },
      "execution_count": 13,
      "outputs": [
        {
          "output_type": "stream",
          "name": "stdout",
          "text": [
            "Accuracy = 0.107333\n",
            "Accuracy = 0.087000\n",
            "Accuracy = 0.107333\n",
            "Accuracy = 0.087000\n",
            "Accuracy = 0.120667\n",
            "Accuracy = 0.087000\n",
            "Accuracy = 0.272333\n",
            "Accuracy = 0.125000\n",
            "Accuracy = 0.722000\n",
            "Accuracy = 0.265000\n",
            "Accuracy = 0.963667\n",
            "Accuracy = 0.256000\n",
            "Accuracy = 0.998667\n",
            "Accuracy = 0.247000\n"
          ]
        },
        {
          "output_type": "display_data",
          "data": {
            "text/plain": [
              "<Figure size 432x288 with 1 Axes>"
            ],
            "image/png": "[encoded data removed]"
          },
          "metadata": {
            "needs_background": "light"
          }
        }
      ]
    },
    {
      "cell_type": "code",
      "source": [
        "#Try more values of c for polynomial kernel.\n",
        "c_svm_poly_extended=[200,500,1000]\n",
        "for c in c_svm_poly_extended:\n",
        "    svm_polynomial(c)"
      ],
      "metadata": {
        "id": "4blAqvke-Nhx"
      },
      "execution_count": null,
      "outputs": []
    },
    {
      "cell_type": "code",
      "source": [
        ""
      ],
      "metadata": {
        "id": "RWRdNJwm-Nkp"
      },
      "execution_count": null,
      "outputs": []
    },
    {
      "cell_type": "code",
      "source": [
        ""
      ],
      "metadata": {
        "id": "AQW3yMlm6sYy"
      },
      "execution_count": null,
      "outputs": []
    }
  ]
}